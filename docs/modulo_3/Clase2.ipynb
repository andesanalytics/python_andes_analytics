{
  "nbformat": 4,
  "nbformat_minor": 0,
  "metadata": {
    "colab": {
      "provenance": []
    },
    "kernelspec": {
      "name": "python3",
      "display_name": "Python 3"
    },
    "language_info": {
      "name": "python"
    }
  },
  "cells": [
    {
      "cell_type": "markdown",
      "source": [
        "# **Repaso Clase 1 Pandas**"
      ],
      "metadata": {
        "id": "FpuviwH-RsbH"
      }
    },
    {
      "cell_type": "markdown",
      "source": [
        "<a href=\"https://colab.research.google.com/github/hizocar/python_andes_analytics/blob/main/docs/modulo_2/clase1.ipynb\" target=\"_parent\"><img src=\"https://colab.research.google.com/assets/colab-badge.svg\" alt=\"Open In Colab\"/></a>"
      ],
      "metadata": {
        "id": "aMaj820_R-ni"
      }
    },
    {
      "cell_type": "markdown",
      "source": [
        "# **Indexación en Pandas**"
      ],
      "metadata": {
        "id": "9AIFHlENSvjv"
      }
    },
    {
      "cell_type": "markdown",
      "source": [
        "**Acceso a los elementos de un DataFrame**\n",
        "El acceso a los datos de un DataFrame se puede hacer a travész de posiciones o através de los nombres de las filas y columnas\n",
        "\n",
        "1. Acceso mediante posiciones\n",
        "* `df.iloc[i, j]` : Devuelve el elemento que se encuentra en la fila i y la columna j del DataFrame df. Pueden indicarse secuencias de índices para obtener partes del DataFrame.\n",
        "\n",
        "* `df.iloc[filas, columnas]` : Devuelve un DataFrame con los elementos de las filas de la lista filas y de las columnas de la lista columnas.\n",
        "\n",
        "* `df.iloc[i]` : Devuelve una serie con los elementos de la fila i del DataFrame df\n",
        "\n",
        "2. Acceso mediante nombres de filas y columnas\n",
        "\n",
        "* `df.loc[fila, columna]` : Devuelve el elemento que se encuentra en la fila con nombre fila y la columna de con nombre columna del DataFrame df.\n",
        "\n",
        "* `df[columna]` : Devuelve una serie con los elementos de la columna de nombre columna del DataFrame df.\n",
        "\n",
        "* `df.columna` : Devuelve una serie con los elementos de la columna de nombre columna del DataFrame df. Es similar al método anterior pero solo funciona cuando el nombre de la columna no tiene espacios en blanco."
      ],
      "metadata": {
        "id": "lbthXo19PwmB"
      }
    },
    {
      "cell_type": "markdown",
      "source": [
        "**Ejemplo:** Usando la misma BBDD del ejercicio anterior\n",
        "\n",
        "1. Indexar solo la columna age.\n",
        "2. Indexar las primeras 10 filas de la columna gender"
      ],
      "metadata": {
        "id": "_oSrXjwUxdcg"
      }
    },
    {
      "cell_type": "markdown",
      "source": [
        "**Operaciones con las columnas de un DataFrame**\n",
        "1. Añadir columnas\n",
        "`df[nombre]`= lista: Si no existe la columna cuyo nombre sea \"nombre\" automáticamente se genera. el tamaño de la lista debe ser igual al largo de la columna\n",
        "2. Eliminar columnas\n",
        "`del df[nombre]`: Elimina la columna con nombre \"nombre\" del DataFrame\n",
        "4. Aplicar funciones a columnas\n",
        "`df[nombre].apply(f)`: Devuelve una serie con los valores que resulta de aplicar la función f a los elementos de la columna con nombre \"nombre\" del DataFrame df\n",
        "5. Convertir una columna\n",
        "* `to_datetime(columna, formato)`: Devuelve la serie que resulta de convertir las cadenas de la columna con el nombre columna en fechas del tipo datetime con el formato indicado. Existen más tipos de cambios.\n",
        "* `to_numeric(columna)`: Convierte el objeto a números. Útil para convertir strings numércios a tipo de datos numéricos\n",
        "* `to_categorical(columna)`: Convierte la columna a una categoría.\n",
        "\n",
        "**Operaciones con las filas de un DataFrame**\n",
        "1. Añadir una fila\n",
        "`df.append(serie, ignore_index = True)`: Devuelve el DataFrame que resulta de añadir una fila al DataFrame df con los valores de la serie .\n",
        "2. Eliminar una fila\n",
        "`df.drop(filas)`: Devuelve el DataFrame que resulta de eliminar las filas con los nombres indicados en la lista\n",
        "3. Filtrar filas\n",
        "`df[condicion]`: Devuleve un DataFrame con las filas del DataFrame df que corresponden con el valor True de la lista.\n",
        "4. Ordenar un DataFrame\n",
        "* `df.sort_values(columna, ascending = True)`: DEvuelve el DataFrame que resulta de ordenar las filas del DataFrame df según los vaores de la columna con nombre columna.\n",
        "* `df.sort_index(ascending = True)`: Devuelve el DataFrame que resulta de ordenar las filas del DataFrame df según los nombres de las filas.\n",
        "5. Agrupar filas basadas en los valores de una o más columnas. Esto significa que estás organizando las filas en grupos según ciertos criterios definidos por los valores de las columnas\n",
        "* `df.groupby(columna)`\n",
        "6. Operaciones de agregación en grupos de datos generados por `group_by` la sintaxis básica es la siguiente\n",
        "* `df.group_by(columna).agg(funciones)`"
      ],
      "metadata": {
        "id": "qdXerTo4yaGf"
      }
    },
    {
      "cell_type": "markdown",
      "source": [
        "## Ejercicio 1\n",
        "\n",
        "1. **Crear un DataFrame** con información de seguros de vida y automóviles. Incluye columnas como \"Tipo de seguro\", \"Monto asegurado\", \"Prima anual\", y \"Fecha de vencimiento\"."
      ],
      "metadata": {
        "id": "4_UGLpeBT1xN"
      }
    },
    {
      "cell_type": "markdown",
      "source": [
        "2. Mostrar la información de los seguros cuyo monto asegurado sea superior a $100,000."
      ],
      "metadata": {
        "id": "gVpariaVK7Wy"
      }
    },
    {
      "cell_type": "markdown",
      "source": [
        "3. Calcular el promedio de la prima anual para todos los seguros."
      ],
      "metadata": {
        "id": "WGZVaH3nK9Tt"
      }
    },
    {
      "cell_type": "markdown",
      "source": [
        "4. Agregar una nueva columna llamada \"Descuento\" que represente un descuento del 10% en la prima anual."
      ],
      "metadata": {
        "id": "imEeHXk2K-wY"
      }
    },
    {
      "cell_type": "markdown",
      "source": [
        "## Ejercicio 2:\n",
        "\n",
        "1. Cargar la BBDD `base_seguros.csv` explora que la BBDD haya quedado correctamente cargada\n"
      ],
      "metadata": {
        "id": "AV2n2k7A2Th3"
      }
    },
    {
      "cell_type": "markdown",
      "source": [
        "2. Tienes un conjunto de datos relacionados con clientes de una compañía de seguros de vida. Examina el DataFrame y observa si hay alguna tendencia general en las edades de los clientes. Intenta identificar si hay grupos de edad específicos que podrían requerir atención especial.\n",
        "\n",
        "\n",
        "\n",
        "\n"
      ],
      "metadata": {
        "id": "51SqiRXPI3U7"
      }
    },
    {
      "cell_type": "markdown",
      "source": [
        "3. En el sector de seguros, la composición de las primas de cobertura es crucial. Analiza la distribución de las primas de cobertura A, B y C para entender cómo se distribuye la carga financiera entre los clientes."
      ],
      "metadata": {
        "id": "JNba3RbpI_2W"
      }
    },
    {
      "cell_type": "markdown",
      "source": [
        "4. Como parte del proceso de evaluación de riesgos, es importante identificar clientes que podrían representar un riesgo más alto para la compañía. Utiliza criterios de edad y duración en la empresa para filtrar clientes potencialmente más riesgosos."
      ],
      "metadata": {
        "id": "-T_uA9mvJUX0"
      }
    },
    {
      "cell_type": "markdown",
      "source": [
        "5. Las primas de seguros pueden variar según la ubicación geográfica. Realiza un análisis comparativo de las edades promedio y las primas de cobertura entre diferentes ciudades para identificar posibles patrones regionales."
      ],
      "metadata": {
        "id": "3dJE4ZZBJeFy"
      }
    },
    {
      "cell_type": "markdown",
      "source": [
        "6. En el mundo de los seguros, las tendencias temporales son fundamentales. Investiga si hay alguna variación en la duración en la empresa a lo largo del tiempo y si esta variación está relacionada con la edad de los clientes.\n"
      ],
      "metadata": {
        "id": "Iapl3Co1JkOZ"
      }
    },
    {
      "cell_type": "markdown",
      "source": [
        "# **Preparación de Datos**\n",
        "\n",
        "La preparación de datos son etapas fundamentales en cualquier proyecto de análisis de datos o aprendizaje automático. En Python, estas tareas se realizan mediante el uso de bibliotecas especializadas como **Pandas y NumPy**.\n",
        "\n",
        "La **preparación de datos** implica la identificación y tratamiento de valores faltantes, duplicados, outliers, errores, transformación de datos, la ingeniería de características y la normalización entre otros.\n",
        "\n",
        "En este contexto, el manejo eficiente de datos desordenados o incompletos es esencial para garantizar la calidad y confiabilidad de los resultados obtenidos en análisis subsiguientes. A través de este proceso, los profesionales de datos pueden asegurarse de que sus conjuntos de datos estén listos para ser utilizados en la construcción de modelos predictivos o en la extracción de información significativa. Algunas herramientas que tenemos en Python para la Preparación de datos son:\n",
        "\n",
        "1. Identificación y Manejo de Valores Nulos:\n",
        "\n",
        "Pandas: La biblioteca pandas proporciona funciones como `isnull()`, `dropna()`, y `fillna()` para identificar, eliminar o rellenar valores nulos en un conjunto de datos.\n",
        "\n",
        "2. Manejo de Valores Duplicados:\n",
        "\n",
        "Pandas: Utiliza el método `drop_duplicates()` para eliminar duplicados basados en columnas específicas o en todo el conjunto de datos.\n",
        "\n",
        "3. Manejo de Outliers:\n",
        "\n",
        "NumPy y Pandas: Utiliza funciones estadísticas para detectar y filtrar outliers. Por ejemplo, puedes calcular el rango intercuartílico (IQR) y filtrar datos fuera de este rango.\n",
        "\n",
        "4. Normalización y Estandarización:\n",
        "\n",
        "`Scikit-learn:` Las clases MinMaxScaler y StandardScaler permiten normalizar y estandarizar datos, respectivamente, para asegurar que todas las variables tengan la misma escala.\n",
        "Transformación de Datos:\n",
        "\n",
        "Pandas: Puedes aplicar funciones y transformaciones a columnas específicas utilizando la función `apply()` o el método `map()`.\n",
        "\n",
        "5. Manejo de Tipos de Datos:\n",
        "\n",
        "Pandas: Utiliza funciones como `astype()` para convertir tipos de datos y `to_datetime()` para manipular fechas y horas."
      ],
      "metadata": {
        "id": "m42OcPyIkOAp"
      }
    }
  ]
}